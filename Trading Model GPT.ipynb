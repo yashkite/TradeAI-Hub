{
 "cells": [
  {
   "cell_type": "code",
   "execution_count": 150,
   "id": "3f1a7197",
   "metadata": {},
   "outputs": [],
   "source": [
    "import gym\n",
    "from gym import Env\n",
    "from gym import spaces\n",
    "import numpy as np\n",
    "import pandas as pd\n",
    "import matplotlib.pyplot as plt\n",
    "import statsmodels.api as sm\n",
    "from statsmodels.tsa.arima.model import ARIMA\n",
    "\n",
    "class TradingEnv(Env):\n",
    "    def __init__(self, data, max_shares=100, initial_balance=100000, max_episode_steps=None):\n",
    "        super(TradingEnv, self).__init__()\n",
    "\n",
    "        # Load the CSV data\n",
    "        self.data = data\n",
    "\n",
    "        self.current_step = 0\n",
    "        self.max_episode_steps = max_episode_steps if max_episode_steps else len(self.data) - 1\n",
    "\n",
    "        # Define action and observation spaces\n",
    "        self.max_shares = max_shares\n",
    "        self.action_space = spaces.Box(low=-max_shares, high=max_shares, shape=(1,))\n",
    "        self.observation_space = spaces.Box(low=0, high=1, shape=(len(self.data.columns) + 2,))  # Add 2 for balance and ARIMA forecast\n",
    "\n",
    "        # Initialize the starting balance, shares held, and ARIMA forecast\n",
    "        self.initial_balance = initial_balance\n",
    "        self.balance = initial_balance\n",
    "        self.shares_held = 0\n",
    "        self.current_price = 0\n",
    "        self.arima_forecast = 0  # Initialize ARIMA forecast\n",
    "\n",
    "        # Train ARIMA model (you can do this in the constructor if needed)\n",
    "        self.train_arima_model()\n",
    "\n",
    "    def step(self, action):\n",
    "        # Implement the logic for taking an action in the environment\n",
    "        self.current_price = self.data['Close'][self.current_step]\n",
    "\n",
    "        action = np.clip(action, -self.max_shares, self.max_shares)  # Clip action to the allowed range\n",
    "        shares_bought = max(action, 0)\n",
    "        shares_sold = abs(min(action, 0))\n",
    "\n",
    "        cost = shares_bought * self.current_price\n",
    "        revenue = shares_sold * self.current_price\n",
    "\n",
    "        self.balance -= cost\n",
    "        self.balance += revenue\n",
    "        self.shares_held += shares_bought - shares_sold\n",
    "\n",
    "        # Calculate rewards (e.g., based on profit or loss)\n",
    "        reward = self.balance - self.initial_balance  # Simple reward based on profit/loss\n",
    "\n",
    "        # Move to the next time step\n",
    "        self.current_step += 1\n",
    "\n",
    "        # Check if the episode is done\n",
    "        done = self.current_step >= self.max_episode_steps or self.balance <= 0\n",
    "\n",
    "        # Update ARIMA forecast (you can do this differently based on your ARIMA model)\n",
    "        self.arima_forecast = self.get_arima_forecast()\n",
    "\n",
    "        # Define info (optional)\n",
    "        info = {}\n",
    "\n",
    "        # Include the current balance and ARIMA forecast in the observation\n",
    "        obs = np.concatenate([self._get_obs(), np.array([self.balance / self.initial_balance, self.arima_forecast])])\n",
    "\n",
    "        return obs, reward, done, info\n",
    "\n",
    "    def reset(self):\n",
    "        # Reset the environment to the initial state\n",
    "        self.current_step = 0\n",
    "        self.balance = self.initial_balance\n",
    "        self.shares_held = 0\n",
    "        self.current_price = 0\n",
    "        self.arima_forecast = 0  # Reset ARIMA forecast\n",
    "        return self._get_obs()\n",
    "\n",
    "    def render(self):\n",
    "        # Implement a visualization of the current state (optional)\n",
    "        pass\n",
    "\n",
    "    def _get_obs(self):\n",
    "        # Get the current observation (e.g., select relevant columns from the data frame)\n",
    "        observation_columns = ['Open', 'High', 'Low', 'Close', 'Adj Close', 'Volume', 'RSI', 'SMA50', 'SMA200']\n",
    "        obs = self.data.iloc[self.current_step][observation_columns].values\n",
    "        return obs\n",
    "\n",
    "    def train_arima_model(self):\n",
    "        # Train your ARIMA model here using historical data\n",
    "        # Example:\n",
    "        train_data = self.data['Close'][:self.current_step]\n",
    "        order = (5, 1, 0)  # Example ARIMA order (p, d, q)\n",
    "        self.arima_model = ARIMA(train_data, order=order)\n",
    "        self.arima_model = self.arima_model.fit()\n",
    "\n",
    "    def get_arima_forecast(self):\n",
    "        # Generate ARIMA forecast for the current time step\n",
    "        forecast_steps = 1  # You can adjust the number of steps to forecast\n",
    "        forecast_values, _, _ = self.arima_model.forecast(steps=forecast_steps)\n",
    "        return forecast_values[0]\n"
   ]
  },
  {
   "cell_type": "code",
   "execution_count": null,
   "id": "6b1f2128",
   "metadata": {},
   "outputs": [],
   "source": []
  },
  {
   "cell_type": "code",
   "execution_count": 145,
   "id": "f8c738aa",
   "metadata": {},
   "outputs": [
    {
     "data": {
      "text/plain": [
       "array([58.34501], dtype=float32)"
      ]
     },
     "execution_count": 145,
     "metadata": {},
     "output_type": "execute_result"
    }
   ],
   "source": [
    "env.action_space.sample()"
   ]
  },
  {
   "cell_type": "code",
   "execution_count": 146,
   "id": "a7bc6cf6",
   "metadata": {},
   "outputs": [],
   "source": [
    "import gym\n",
    "import numpy as np\n",
    "from stable_baselines3 import PPO\n",
    "from stable_baselines3.common.vec_env import DummyVecEnv\n"
   ]
  },
  {
   "cell_type": "code",
   "execution_count": 156,
   "id": "d9e9358c",
   "metadata": {},
   "outputs": [
    {
     "name": "stdout",
     "output_type": "stream",
     "text": [
      "            Open        High         Low       Close   Adj Close     Volume  \\\n",
      "0       9.881520   10.361560    9.881520   10.361560    2.303619  138828915   \n",
      "1      10.864058   11.004420   10.389632   10.529995    2.341065  257373746   \n",
      "2      10.555260   10.886516   10.434548   10.799491    2.400981  181469397   \n",
      "3      10.838792   10.976348   10.647899   10.704044    2.379761  122125737   \n",
      "4      10.667550   10.751768   10.445777   10.538417    2.342938  131632371   \n",
      "...          ...         ...         ...         ...         ...        ...   \n",
      "6728  119.599998  119.599998  118.000000  118.849998  118.849998   20711952   \n",
      "6729  119.000000  119.500000  117.949997  118.150002  118.150002   21275054   \n",
      "6730  118.349998  120.500000  116.900002  120.199997  120.199997   34154214   \n",
      "6731  120.000000  120.650002  119.250000  120.000000  120.000000   24439101   \n",
      "6732  120.300003  121.400002  119.150002  120.500000  120.500000   19175105   \n",
      "\n",
      "            RSI       SMA50      SMA200  \n",
      "0     64.011152   10.085944   11.529713  \n",
      "1     66.812085   10.086730   11.534977  \n",
      "2     70.736425   10.092513   11.541995  \n",
      "3     67.683862   10.102844   11.548044  \n",
      "4     62.632830   10.109581   11.555147  \n",
      "...         ...         ...         ...  \n",
      "6728  56.068901  113.897000  110.396750  \n",
      "6729  53.463629  114.091000  110.484250  \n",
      "6730  59.411666  114.354000  110.585000  \n",
      "6731  58.624413  114.638000  110.680500  \n",
      "6732  60.049675  114.929000  110.782000  \n",
      "\n",
      "[6733 rows x 9 columns]\n"
     ]
    }
   ],
   "source": [
    "data = pd.read_csv(\"C:\\\\Users\\\\Yash\\\\Downloads\\\\tata.csv\")\n",
    "# Convert the date column to a numerical format (e.g., Unix timestamp)\n",
    "\n",
    "# data['Date'] = pd.to_datetime(data['Date'], format='%d-%m-%Y')\n",
    "# data['Date'] = (data['Date'] - pd.Timestamp(\"1970-01-01\")) // pd.Timedelta('1D')\n",
    "\n",
    "# data['Date'] = (data['Date'] - pd.Timestamp(\"1970-01-01\")) // pd.Timedelta('1D')\n",
    "# Create your custom trading environment\n",
    "env = TradingEnv(data)\n",
    "print(data)\n",
    "\n",
    "# Wrap the environment in a DummyVecEnv to make it compatible with Stable Baselines3\n",
    "env = DummyVecEnv([lambda: env])\n"
   ]
  },
  {
   "cell_type": "code",
   "execution_count": 155,
   "id": "19c0ee73",
   "metadata": {},
   "outputs": [
    {
     "ename": "ImportError",
     "evalue": "cannot import name 'DummyVecEnv' from 'stable_baselines3.common.envs' (C:\\Users\\Yash\\AppData\\Roaming\\Python\\Python310\\site-packages\\stable_baselines3\\common\\envs\\__init__.py)",
     "output_type": "error",
     "traceback": [
      "\u001b[1;31m---------------------------------------------------------------------------\u001b[0m",
      "\u001b[1;31mImportError\u001b[0m                               Traceback (most recent call last)",
      "Cell \u001b[1;32mIn[155], line 3\u001b[0m\n\u001b[0;32m      1\u001b[0m \u001b[38;5;28;01mimport\u001b[39;00m \u001b[38;5;21;01mgym\u001b[39;00m\n\u001b[0;32m      2\u001b[0m \u001b[38;5;28;01mfrom\u001b[39;00m \u001b[38;5;21;01mstable_baselines3\u001b[39;00m \u001b[38;5;28;01mimport\u001b[39;00m PPO\n\u001b[1;32m----> 3\u001b[0m \u001b[38;5;28;01mfrom\u001b[39;00m \u001b[38;5;21;01mstable_baselines3\u001b[39;00m\u001b[38;5;21;01m.\u001b[39;00m\u001b[38;5;21;01mcommon\u001b[39;00m\u001b[38;5;21;01m.\u001b[39;00m\u001b[38;5;21;01menvs\u001b[39;00m \u001b[38;5;28;01mimport\u001b[39;00m DummyVecEnv\n\u001b[0;32m      5\u001b[0m \u001b[38;5;66;03m# Define a function to train a PPO agent\u001b[39;00m\n\u001b[0;32m      6\u001b[0m \u001b[38;5;28;01mdef\u001b[39;00m \u001b[38;5;21mtrain_ppo\u001b[39m(env, num_timesteps):\n\u001b[0;32m      7\u001b[0m     \u001b[38;5;66;03m# Wrap the environment in a DummyVecEnv to make it compatible with PPO\u001b[39;00m\n",
      "\u001b[1;31mImportError\u001b[0m: cannot import name 'DummyVecEnv' from 'stable_baselines3.common.envs' (C:\\Users\\Yash\\AppData\\Roaming\\Python\\Python310\\site-packages\\stable_baselines3\\common\\envs\\__init__.py)"
     ]
    }
   ],
   "source": [
    "import gym\n",
    "from stable_baselines3 import PPO\n",
    "from stable_baselines3.common.envs import DummyVecEnv\n",
    "\n",
    "# Define a function to train a PPO agent\n",
    "def train_ppo(env, num_timesteps):\n",
    "    # Wrap the environment in a DummyVecEnv to make it compatible with PPO\n",
    "    env = DummyVecEnv([lambda: env])\n",
    "\n",
    "    # Create and configure the PPO agent\n",
    "    model = PPO(\"MlpPolicy\", env, verbose=1)\n",
    "\n",
    "    # Train the model\n",
    "    model.learn(total_timesteps=num_timesteps)\n",
    "\n",
    "    return model"
   ]
  },
  {
   "cell_type": "code",
   "execution_count": 154,
   "id": "908f98ec",
   "metadata": {},
   "outputs": [
    {
     "name": "stdout",
     "output_type": "stream",
     "text": [
      "Using cpu device\n"
     ]
    },
    {
     "ename": "ValueError",
     "evalue": "too many values to unpack (expected 2)",
     "output_type": "error",
     "traceback": [
      "\u001b[1;31m---------------------------------------------------------------------------\u001b[0m",
      "\u001b[1;31mValueError\u001b[0m                                Traceback (most recent call last)",
      "Cell \u001b[1;32mIn[154], line 2\u001b[0m\n\u001b[0;32m      1\u001b[0m \u001b[38;5;66;03m# Train the PPO agent\u001b[39;00m\n\u001b[1;32m----> 2\u001b[0m trained_model \u001b[38;5;241m=\u001b[39m \u001b[43mtrain_ppo\u001b[49m\u001b[43m(\u001b[49m\u001b[43menv\u001b[49m\u001b[43m,\u001b[49m\u001b[43m \u001b[49m\u001b[43mnum_timesteps\u001b[49m\u001b[38;5;241;43m=\u001b[39;49m\u001b[38;5;241;43m1000\u001b[39;49m\u001b[43m)\u001b[49m\n",
      "Cell \u001b[1;32mIn[16], line 9\u001b[0m, in \u001b[0;36mtrain_ppo\u001b[1;34m(env, num_timesteps)\u001b[0m\n\u001b[0;32m      6\u001b[0m model \u001b[38;5;241m=\u001b[39m PPO(\u001b[38;5;124m\"\u001b[39m\u001b[38;5;124mMlpPolicy\u001b[39m\u001b[38;5;124m\"\u001b[39m, env, verbose\u001b[38;5;241m=\u001b[39m\u001b[38;5;241m1\u001b[39m)\n\u001b[0;32m      8\u001b[0m \u001b[38;5;66;03m# Train the model\u001b[39;00m\n\u001b[1;32m----> 9\u001b[0m \u001b[43mmodel\u001b[49m\u001b[38;5;241;43m.\u001b[39;49m\u001b[43mlearn\u001b[49m\u001b[43m(\u001b[49m\u001b[43mtotal_timesteps\u001b[49m\u001b[38;5;241;43m=\u001b[39;49m\u001b[43mnum_timesteps\u001b[49m\u001b[43m)\u001b[49m\n\u001b[0;32m     11\u001b[0m \u001b[38;5;66;03m# Save the trained model\u001b[39;00m\n\u001b[0;32m     12\u001b[0m model\u001b[38;5;241m.\u001b[39msave(\u001b[38;5;124m\"\u001b[39m\u001b[38;5;124mtrading_ppo_model\u001b[39m\u001b[38;5;124m\"\u001b[39m)\n",
      "File \u001b[1;32m~\\AppData\\Roaming\\Python\\Python310\\site-packages\\stable_baselines3\\ppo\\ppo.py:308\u001b[0m, in \u001b[0;36mPPO.learn\u001b[1;34m(self, total_timesteps, callback, log_interval, tb_log_name, reset_num_timesteps, progress_bar)\u001b[0m\n\u001b[0;32m    299\u001b[0m \u001b[38;5;28;01mdef\u001b[39;00m \u001b[38;5;21mlearn\u001b[39m(\n\u001b[0;32m    300\u001b[0m     \u001b[38;5;28mself\u001b[39m: SelfPPO,\n\u001b[0;32m    301\u001b[0m     total_timesteps: \u001b[38;5;28mint\u001b[39m,\n\u001b[1;32m   (...)\u001b[0m\n\u001b[0;32m    306\u001b[0m     progress_bar: \u001b[38;5;28mbool\u001b[39m \u001b[38;5;241m=\u001b[39m \u001b[38;5;28;01mFalse\u001b[39;00m,\n\u001b[0;32m    307\u001b[0m ) \u001b[38;5;241m-\u001b[39m\u001b[38;5;241m>\u001b[39m SelfPPO:\n\u001b[1;32m--> 308\u001b[0m     \u001b[38;5;28;01mreturn\u001b[39;00m \u001b[38;5;28;43msuper\u001b[39;49m\u001b[43m(\u001b[49m\u001b[43m)\u001b[49m\u001b[38;5;241;43m.\u001b[39;49m\u001b[43mlearn\u001b[49m\u001b[43m(\u001b[49m\n\u001b[0;32m    309\u001b[0m \u001b[43m        \u001b[49m\u001b[43mtotal_timesteps\u001b[49m\u001b[38;5;241;43m=\u001b[39;49m\u001b[43mtotal_timesteps\u001b[49m\u001b[43m,\u001b[49m\n\u001b[0;32m    310\u001b[0m \u001b[43m        \u001b[49m\u001b[43mcallback\u001b[49m\u001b[38;5;241;43m=\u001b[39;49m\u001b[43mcallback\u001b[49m\u001b[43m,\u001b[49m\n\u001b[0;32m    311\u001b[0m \u001b[43m        \u001b[49m\u001b[43mlog_interval\u001b[49m\u001b[38;5;241;43m=\u001b[39;49m\u001b[43mlog_interval\u001b[49m\u001b[43m,\u001b[49m\n\u001b[0;32m    312\u001b[0m \u001b[43m        \u001b[49m\u001b[43mtb_log_name\u001b[49m\u001b[38;5;241;43m=\u001b[39;49m\u001b[43mtb_log_name\u001b[49m\u001b[43m,\u001b[49m\n\u001b[0;32m    313\u001b[0m \u001b[43m        \u001b[49m\u001b[43mreset_num_timesteps\u001b[49m\u001b[38;5;241;43m=\u001b[39;49m\u001b[43mreset_num_timesteps\u001b[49m\u001b[43m,\u001b[49m\n\u001b[0;32m    314\u001b[0m \u001b[43m        \u001b[49m\u001b[43mprogress_bar\u001b[49m\u001b[38;5;241;43m=\u001b[39;49m\u001b[43mprogress_bar\u001b[49m\u001b[43m,\u001b[49m\n\u001b[0;32m    315\u001b[0m \u001b[43m    \u001b[49m\u001b[43m)\u001b[49m\n",
      "File \u001b[1;32m~\\AppData\\Roaming\\Python\\Python310\\site-packages\\stable_baselines3\\common\\on_policy_algorithm.py:246\u001b[0m, in \u001b[0;36mOnPolicyAlgorithm.learn\u001b[1;34m(self, total_timesteps, callback, log_interval, tb_log_name, reset_num_timesteps, progress_bar)\u001b[0m\n\u001b[0;32m    235\u001b[0m \u001b[38;5;28;01mdef\u001b[39;00m \u001b[38;5;21mlearn\u001b[39m(\n\u001b[0;32m    236\u001b[0m     \u001b[38;5;28mself\u001b[39m: SelfOnPolicyAlgorithm,\n\u001b[0;32m    237\u001b[0m     total_timesteps: \u001b[38;5;28mint\u001b[39m,\n\u001b[1;32m   (...)\u001b[0m\n\u001b[0;32m    242\u001b[0m     progress_bar: \u001b[38;5;28mbool\u001b[39m \u001b[38;5;241m=\u001b[39m \u001b[38;5;28;01mFalse\u001b[39;00m,\n\u001b[0;32m    243\u001b[0m ) \u001b[38;5;241m-\u001b[39m\u001b[38;5;241m>\u001b[39m SelfOnPolicyAlgorithm:\n\u001b[0;32m    244\u001b[0m     iteration \u001b[38;5;241m=\u001b[39m \u001b[38;5;241m0\u001b[39m\n\u001b[1;32m--> 246\u001b[0m     total_timesteps, callback \u001b[38;5;241m=\u001b[39m \u001b[38;5;28;43mself\u001b[39;49m\u001b[38;5;241;43m.\u001b[39;49m\u001b[43m_setup_learn\u001b[49m\u001b[43m(\u001b[49m\n\u001b[0;32m    247\u001b[0m \u001b[43m        \u001b[49m\u001b[43mtotal_timesteps\u001b[49m\u001b[43m,\u001b[49m\n\u001b[0;32m    248\u001b[0m \u001b[43m        \u001b[49m\u001b[43mcallback\u001b[49m\u001b[43m,\u001b[49m\n\u001b[0;32m    249\u001b[0m \u001b[43m        \u001b[49m\u001b[43mreset_num_timesteps\u001b[49m\u001b[43m,\u001b[49m\n\u001b[0;32m    250\u001b[0m \u001b[43m        \u001b[49m\u001b[43mtb_log_name\u001b[49m\u001b[43m,\u001b[49m\n\u001b[0;32m    251\u001b[0m \u001b[43m        \u001b[49m\u001b[43mprogress_bar\u001b[49m\u001b[43m,\u001b[49m\n\u001b[0;32m    252\u001b[0m \u001b[43m    \u001b[49m\u001b[43m)\u001b[49m\n\u001b[0;32m    254\u001b[0m     callback\u001b[38;5;241m.\u001b[39mon_training_start(\u001b[38;5;28mlocals\u001b[39m(), \u001b[38;5;28mglobals\u001b[39m())\n\u001b[0;32m    256\u001b[0m     \u001b[38;5;28;01massert\u001b[39;00m \u001b[38;5;28mself\u001b[39m\u001b[38;5;241m.\u001b[39menv \u001b[38;5;129;01mis\u001b[39;00m \u001b[38;5;129;01mnot\u001b[39;00m \u001b[38;5;28;01mNone\u001b[39;00m\n",
      "File \u001b[1;32m~\\AppData\\Roaming\\Python\\Python310\\site-packages\\stable_baselines3\\common\\base_class.py:424\u001b[0m, in \u001b[0;36mBaseAlgorithm._setup_learn\u001b[1;34m(self, total_timesteps, callback, reset_num_timesteps, tb_log_name, progress_bar)\u001b[0m\n\u001b[0;32m    422\u001b[0m \u001b[38;5;28;01massert\u001b[39;00m \u001b[38;5;28mself\u001b[39m\u001b[38;5;241m.\u001b[39menv \u001b[38;5;129;01mis\u001b[39;00m \u001b[38;5;129;01mnot\u001b[39;00m \u001b[38;5;28;01mNone\u001b[39;00m\n\u001b[0;32m    423\u001b[0m \u001b[38;5;66;03m# pytype: disable=annotation-type-mismatch\u001b[39;00m\n\u001b[1;32m--> 424\u001b[0m \u001b[38;5;28mself\u001b[39m\u001b[38;5;241m.\u001b[39m_last_obs \u001b[38;5;241m=\u001b[39m \u001b[38;5;28;43mself\u001b[39;49m\u001b[38;5;241;43m.\u001b[39;49m\u001b[43menv\u001b[49m\u001b[38;5;241;43m.\u001b[39;49m\u001b[43mreset\u001b[49m\u001b[43m(\u001b[49m\u001b[43m)\u001b[49m  \u001b[38;5;66;03m# type: ignore[assignment]\u001b[39;00m\n\u001b[0;32m    425\u001b[0m \u001b[38;5;66;03m# pytype: enable=annotation-type-mismatch\u001b[39;00m\n\u001b[0;32m    426\u001b[0m \u001b[38;5;28mself\u001b[39m\u001b[38;5;241m.\u001b[39m_last_episode_starts \u001b[38;5;241m=\u001b[39m np\u001b[38;5;241m.\u001b[39mones((\u001b[38;5;28mself\u001b[39m\u001b[38;5;241m.\u001b[39menv\u001b[38;5;241m.\u001b[39mnum_envs,), dtype\u001b[38;5;241m=\u001b[39m\u001b[38;5;28mbool\u001b[39m)\n",
      "File \u001b[1;32m~\\AppData\\Roaming\\Python\\Python310\\site-packages\\stable_baselines3\\common\\vec_env\\dummy_vec_env.py:76\u001b[0m, in \u001b[0;36mDummyVecEnv.reset\u001b[1;34m(self)\u001b[0m\n\u001b[0;32m     74\u001b[0m \u001b[38;5;28;01mdef\u001b[39;00m \u001b[38;5;21mreset\u001b[39m(\u001b[38;5;28mself\u001b[39m) \u001b[38;5;241m-\u001b[39m\u001b[38;5;241m>\u001b[39m VecEnvObs:\n\u001b[0;32m     75\u001b[0m     \u001b[38;5;28;01mfor\u001b[39;00m env_idx \u001b[38;5;129;01min\u001b[39;00m \u001b[38;5;28mrange\u001b[39m(\u001b[38;5;28mself\u001b[39m\u001b[38;5;241m.\u001b[39mnum_envs):\n\u001b[1;32m---> 76\u001b[0m         obs, \u001b[38;5;28mself\u001b[39m\u001b[38;5;241m.\u001b[39mreset_infos[env_idx] \u001b[38;5;241m=\u001b[39m \u001b[38;5;28mself\u001b[39m\u001b[38;5;241m.\u001b[39menvs[env_idx]\u001b[38;5;241m.\u001b[39mreset(seed\u001b[38;5;241m=\u001b[39m\u001b[38;5;28mself\u001b[39m\u001b[38;5;241m.\u001b[39m_seeds[env_idx])\n\u001b[0;32m     77\u001b[0m         \u001b[38;5;28mself\u001b[39m\u001b[38;5;241m.\u001b[39m_save_obs(env_idx, obs)\n\u001b[0;32m     78\u001b[0m     \u001b[38;5;66;03m# Seeds are only used once\u001b[39;00m\n",
      "\u001b[1;31mValueError\u001b[0m: too many values to unpack (expected 2)"
     ]
    }
   ],
   "source": [
    "# Train the PPO agent\n",
    "trained_model = train_ppo(env, num_timesteps=1000)\n"
   ]
  },
  {
   "cell_type": "code",
   "execution_count": null,
   "id": "ec2daed2",
   "metadata": {},
   "outputs": [],
   "source": [
    "\n",
    "    # Evaluate the trained model (optional)\n",
    "    mean_reward, _ = evaluate_policy(trained_model, env, n_eval_episodes=10)\n",
    "    print(f\"Mean reward: {mean_reward}\")"
   ]
  },
  {
   "cell_type": "code",
   "execution_count": 96,
   "id": "68991ee9",
   "metadata": {},
   "outputs": [
    {
     "name": "stdout",
     "output_type": "stream",
     "text": [
      "2000-09-05 00:00:00\n"
     ]
    }
   ],
   "source": [
    "\n",
    "a= pd.to_datetime('05-9-2000', format='%d-%m-%Y')"
   ]
  },
  {
   "cell_type": "code",
   "execution_count": 89,
   "id": "c7a26b8e",
   "metadata": {},
   "outputs": [
    {
     "ename": "TypeError",
     "evalue": "unsupported operand type(s) for -: 'int' and 'Timestamp'",
     "output_type": "error",
     "traceback": [
      "\u001b[1;31m---------------------------------------------------------------------------\u001b[0m",
      "\u001b[1;31mTypeError\u001b[0m                                 Traceback (most recent call last)",
      "Cell \u001b[1;32mIn[89], line 1\u001b[0m\n\u001b[1;32m----> 1\u001b[0m ( \u001b[38;5;241;43m9792\u001b[39;49m\u001b[43m \u001b[49m\u001b[38;5;241;43m-\u001b[39;49m\u001b[43m \u001b[49m\u001b[43mpd\u001b[49m\u001b[38;5;241;43m.\u001b[39;49m\u001b[43mTimestamp\u001b[49m\u001b[43m(\u001b[49m\u001b[38;5;124;43m\"\u001b[39;49m\u001b[38;5;124;43m1970-01-01\u001b[39;49m\u001b[38;5;124;43m\"\u001b[39;49m\u001b[43m)\u001b[49m) \u001b[38;5;241m/\u001b[39m\u001b[38;5;241m/\u001b[39m pd\u001b[38;5;241m.\u001b[39mTimedelta(\u001b[38;5;124m'\u001b[39m\u001b[38;5;124m1D\u001b[39m\u001b[38;5;124m'\u001b[39m)\n",
      "\u001b[1;31mTypeError\u001b[0m: unsupported operand type(s) for -: 'int' and 'Timestamp'"
     ]
    }
   ],
   "source": [
    "( 9792 - pd.Timestamp(\"1970-01-01\")) // pd.Timedelta('1D')\n"
   ]
  },
  {
   "cell_type": "code",
   "execution_count": 158,
   "id": "d84954ea",
   "metadata": {},
   "outputs": [
    {
     "name": "stdout",
     "output_type": "stream",
     "text": [
      "Defaulting to user installation because normal site-packages is not writeable\n",
      "Requirement already satisfied: stable-baselines3 in c:\\users\\yash\\appdata\\roaming\\python\\python310\\site-packages (2.1.0)\n",
      "Requirement already satisfied: cloudpickle in c:\\programdata\\anaconda3\\lib\\site-packages (from stable-baselines3) (2.0.0)\n",
      "Requirement already satisfied: gymnasium<0.30,>=0.28.1 in c:\\users\\yash\\appdata\\roaming\\python\\python310\\site-packages (from stable-baselines3) (0.29.1)\n",
      "Requirement already satisfied: matplotlib in c:\\programdata\\anaconda3\\lib\\site-packages (from stable-baselines3) (3.7.0)\n",
      "Requirement already satisfied: torch>=1.13 in c:\\users\\yash\\appdata\\roaming\\python\\python310\\site-packages (from stable-baselines3) (2.0.1)\n",
      "Requirement already satisfied: pandas in c:\\programdata\\anaconda3\\lib\\site-packages (from stable-baselines3) (1.5.3)\n",
      "Requirement already satisfied: numpy>=1.20 in c:\\programdata\\anaconda3\\lib\\site-packages (from stable-baselines3) (1.23.5)\n",
      "Requirement already satisfied: typing-extensions>=4.3.0 in c:\\programdata\\anaconda3\\lib\\site-packages (from gymnasium<0.30,>=0.28.1->stable-baselines3) (4.4.0)\n",
      "Requirement already satisfied: farama-notifications>=0.0.1 in c:\\users\\yash\\appdata\\roaming\\python\\python310\\site-packages (from gymnasium<0.30,>=0.28.1->stable-baselines3) (0.0.4)\n",
      "Requirement already satisfied: sympy in c:\\programdata\\anaconda3\\lib\\site-packages (from torch>=1.13->stable-baselines3) (1.11.1)\n",
      "Requirement already satisfied: filelock in c:\\programdata\\anaconda3\\lib\\site-packages (from torch>=1.13->stable-baselines3) (3.9.0)\n",
      "Requirement already satisfied: jinja2 in c:\\programdata\\anaconda3\\lib\\site-packages (from torch>=1.13->stable-baselines3) (3.1.2)\n",
      "Requirement already satisfied: networkx in c:\\programdata\\anaconda3\\lib\\site-packages (from torch>=1.13->stable-baselines3) (2.8.4)\n",
      "Requirement already satisfied: cycler>=0.10 in c:\\programdata\\anaconda3\\lib\\site-packages (from matplotlib->stable-baselines3) (0.11.0)\n",
      "Requirement already satisfied: contourpy>=1.0.1 in c:\\programdata\\anaconda3\\lib\\site-packages (from matplotlib->stable-baselines3) (1.0.5)\n",
      "Requirement already satisfied: python-dateutil>=2.7 in c:\\programdata\\anaconda3\\lib\\site-packages (from matplotlib->stable-baselines3) (2.8.2)\n",
      "Requirement already satisfied: pyparsing>=2.3.1 in c:\\programdata\\anaconda3\\lib\\site-packages (from matplotlib->stable-baselines3) (3.0.9)\n",
      "Requirement already satisfied: packaging>=20.0 in c:\\programdata\\anaconda3\\lib\\site-packages (from matplotlib->stable-baselines3) (22.0)\n",
      "Requirement already satisfied: fonttools>=4.22.0 in c:\\programdata\\anaconda3\\lib\\site-packages (from matplotlib->stable-baselines3) (4.25.0)\n",
      "Requirement already satisfied: pillow>=6.2.0 in c:\\programdata\\anaconda3\\lib\\site-packages (from matplotlib->stable-baselines3) (9.4.0)\n",
      "Requirement already satisfied: kiwisolver>=1.0.1 in c:\\programdata\\anaconda3\\lib\\site-packages (from matplotlib->stable-baselines3) (1.4.4)\n",
      "Requirement already satisfied: pytz>=2020.1 in c:\\programdata\\anaconda3\\lib\\site-packages (from pandas->stable-baselines3) (2022.7)\n",
      "Requirement already satisfied: six>=1.5 in c:\\programdata\\anaconda3\\lib\\site-packages (from python-dateutil>=2.7->matplotlib->stable-baselines3) (1.16.0)\n",
      "Requirement already satisfied: MarkupSafe>=2.0 in c:\\programdata\\anaconda3\\lib\\site-packages (from jinja2->torch>=1.13->stable-baselines3) (2.1.1)\n",
      "Requirement already satisfied: mpmath>=0.19 in c:\\programdata\\anaconda3\\lib\\site-packages (from sympy->torch>=1.13->stable-baselines3) (1.2.1)\n"
     ]
    },
    {
     "name": "stderr",
     "output_type": "stream",
     "text": [
      "WARNING: Ignoring invalid distribution -ensorflow-intel (c:\\users\\yash\\appdata\\roaming\\python\\python310\\site-packages)\n",
      "WARNING: Ignoring invalid distribution -ensorflow-intel (c:\\users\\yash\\appdata\\roaming\\python\\python310\\site-packages)\n",
      "WARNING: Ignoring invalid distribution -ensorflow-intel (c:\\users\\yash\\appdata\\roaming\\python\\python310\\site-packages)\n",
      "WARNING: Ignoring invalid distribution -ensorflow-intel (c:\\users\\yash\\appdata\\roaming\\python\\python310\\site-packages)\n",
      "WARNING: Ignoring invalid distribution -ensorflow-intel (c:\\users\\yash\\appdata\\roaming\\python\\python310\\site-packages)\n",
      "WARNING: Ignoring invalid distribution -ensorflow-intel (c:\\users\\yash\\appdata\\roaming\\python\\python310\\site-packages)\n"
     ]
    }
   ],
   "source": [
    "!pip install stable-baselines3\n"
   ]
  },
  {
   "cell_type": "code",
   "execution_count": null,
   "id": "dbfdb887",
   "metadata": {},
   "outputs": [],
   "source": []
  }
 ],
 "metadata": {
  "kernelspec": {
   "display_name": "Python 3 (ipykernel)",
   "language": "python",
   "name": "python3"
  },
  "language_info": {
   "codemirror_mode": {
    "name": "ipython",
    "version": 3
   },
   "file_extension": ".py",
   "mimetype": "text/x-python",
   "name": "python",
   "nbconvert_exporter": "python",
   "pygments_lexer": "ipython3",
   "version": "3.10.9"
  }
 },
 "nbformat": 4,
 "nbformat_minor": 5
}
